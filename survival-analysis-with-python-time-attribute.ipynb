{
 "cells": [
  {
   "cell_type": "code",
   "execution_count": 1,
   "id": "da6ce787",
   "metadata": {
    "execution": {
     "iopub.execute_input": "2022-07-10T19:21:21.956562Z",
     "iopub.status.busy": "2022-07-10T19:21:21.956121Z",
     "iopub.status.idle": "2022-07-10T19:21:23.121965Z",
     "shell.execute_reply": "2022-07-10T19:21:23.120899Z"
    },
    "papermill": {
     "duration": 1.176769,
     "end_time": "2022-07-10T19:21:23.124704",
     "exception": false,
     "start_time": "2022-07-10T19:21:21.947935",
     "status": "completed"
    },
    "tags": []
   },
   "outputs": [],
   "source": [
    "import pandas as pd\n",
    "import numpy as np\n",
    "import matplotlib.pyplot as plt\n",
    "import seaborn as sns\n",
    "import statistics\n",
    "from scipy import stats"
   ]
  },
  {
   "cell_type": "markdown",
   "id": "738f2073",
   "metadata": {
    "papermill": {
     "duration": 0.003539,
     "end_time": "2022-07-10T19:21:23.132387",
     "exception": false,
     "start_time": "2022-07-10T19:21:23.128848",
     "status": "completed"
    },
    "tags": []
   },
   "source": [
    "## You can see in the comment section for this data, the most frequently the question is; *what is the time attribute?*"
   ]
  },
  {
   "cell_type": "markdown",
   "id": "863efb36",
   "metadata": {
    "papermill": {
     "duration": 0.003627,
     "end_time": "2022-07-10T19:21:23.139801",
     "exception": false,
     "start_time": "2022-07-10T19:21:23.136174",
     "status": "completed"
    },
    "tags": []
   },
   "source": [
    "# Survival analysis with Python in medical data"
   ]
  },
  {
   "cell_type": "markdown",
   "id": "7bd51bec",
   "metadata": {
    "papermill": {
     "duration": 0.003516,
     "end_time": "2022-07-10T19:21:23.147031",
     "exception": false,
     "start_time": "2022-07-10T19:21:23.143515",
     "status": "completed"
    },
    "tags": []
   },
   "source": [
    "## Survival Analysis with Kaplan Meier estimator\n",
    "\n",
    "\n",
    "The Kaplan–Meier estimator is a non-parametric statistic used to estimate the survival function from lifetime data. In medical research, it is often used to gauge the part of patients living for a specific measure of time after treatment.\n",
    "\n",
    "Now let’s familiarise ourselves with the conceptual knowledge. The Kaplan-Meier curve is the visual representation of the Kaplan-Meier estimator which makes the following assumptions:\n",
    "\n",
    "* Censorship: Censored observations have the same survival prospects as uncensored observations.\n",
    "* Study entry time: Survival probabilities are the same for observations recruited early and later in the study.\n",
    "* Event time: Event happened at the defined time\n",
    "\n",
    "\n",
    "\n",
    "\n",
    "The Kaplan-Meier estimator is defined by the following formula:\n",
    "\n",
    "![formula](https://miro.medium.com/max/450/1*7mFE_3uLKTnZ8LGVfogL5w.png)"
   ]
  },
  {
   "cell_type": "markdown",
   "id": "f828c76c",
   "metadata": {
    "papermill": {
     "duration": 0.003471,
     "end_time": "2022-07-10T19:21:23.154306",
     "exception": false,
     "start_time": "2022-07-10T19:21:23.150835",
     "status": "completed"
    },
    "tags": []
   },
   "source": [
    "![](https://i.imgur.com/EOowdSD.png)\n",
    "\n",
    "lifelines is a complete survival analysis library, written in pure Python.\n",
    "[For API page](https://lifelines.readthedocs.io/en/latest/)\n",
    "\n",
    "Kaplan-Meier curve can be plotted using the KaplanMeierFitter object in a handful of lines:"
   ]
  },
  {
   "cell_type": "code",
   "execution_count": 2,
   "id": "8f5a12c8",
   "metadata": {
    "collapsed": true,
    "execution": {
     "iopub.execute_input": "2022-07-10T19:21:23.163539Z",
     "iopub.status.busy": "2022-07-10T19:21:23.162996Z",
     "iopub.status.idle": "2022-07-10T19:21:40.003111Z",
     "shell.execute_reply": "2022-07-10T19:21:40.001719Z"
    },
    "jupyter": {
     "outputs_hidden": true
    },
    "papermill": {
     "duration": 16.847614,
     "end_time": "2022-07-10T19:21:40.005548",
     "exception": false,
     "start_time": "2022-07-10T19:21:23.157934",
     "status": "completed"
    },
    "tags": []
   },
   "outputs": [
    {
     "name": "stdout",
     "output_type": "stream",
     "text": [
      "Collecting lifelines\r\n",
      "  Downloading lifelines-0.27.1-py3-none-any.whl (349 kB)\r\n",
      "\u001b[2K     \u001b[90m━━━━━━━━━━━━━━━━━━━━━━━━━━━━━━━━━━━━━━━\u001b[0m \u001b[32m349.5/349.5 kB\u001b[0m \u001b[31m1.2 MB/s\u001b[0m eta \u001b[36m0:00:00\u001b[0m\r\n",
      "\u001b[?25hCollecting autograd-gamma>=0.3\r\n",
      "  Downloading autograd-gamma-0.5.0.tar.gz (4.0 kB)\r\n",
      "  Preparing metadata (setup.py) ... \u001b[?25l-\b \bdone\r\n",
      "\u001b[?25hRequirement already satisfied: matplotlib>=3.0 in /opt/conda/lib/python3.7/site-packages (from lifelines) (3.5.2)\r\n",
      "Requirement already satisfied: scipy>=1.2.0 in /opt/conda/lib/python3.7/site-packages (from lifelines) (1.7.3)\r\n",
      "Collecting autograd>=1.3\r\n",
      "  Downloading autograd-1.4-py3-none-any.whl (48 kB)\r\n",
      "\u001b[2K     \u001b[90m━━━━━━━━━━━━━━━━━━━━━━━━━━━━━━━━━━━━━━━━\u001b[0m \u001b[32m48.8/48.8 kB\u001b[0m \u001b[31m3.2 MB/s\u001b[0m eta \u001b[36m0:00:00\u001b[0m\r\n",
      "\u001b[?25hRequirement already satisfied: numpy>=1.14.0 in /opt/conda/lib/python3.7/site-packages (from lifelines) (1.21.6)\r\n",
      "Requirement already satisfied: pandas>=1.0.0 in /opt/conda/lib/python3.7/site-packages (from lifelines) (1.3.5)\r\n",
      "Collecting formulaic>=0.2.2\r\n",
      "  Downloading formulaic-0.3.4-py3-none-any.whl (68 kB)\r\n",
      "\u001b[2K     \u001b[90m━━━━━━━━━━━━━━━━━━━━━━━━━━━━━━━━━━━━━━━━\u001b[0m \u001b[32m68.2/68.2 kB\u001b[0m \u001b[31m3.5 MB/s\u001b[0m eta \u001b[36m0:00:00\u001b[0m\r\n",
      "\u001b[?25hRequirement already satisfied: future>=0.15.2 in /opt/conda/lib/python3.7/site-packages (from autograd>=1.3->lifelines) (0.18.2)\r\n",
      "Requirement already satisfied: wrapt>=1.0 in /opt/conda/lib/python3.7/site-packages (from formulaic>=0.2.2->lifelines) (1.14.1)\r\n",
      "Collecting interface-meta<2.0.0,>=1.2.0\r\n",
      "  Downloading interface_meta-1.3.0-py3-none-any.whl (14 kB)\r\n",
      "Collecting astor>=0.8\r\n",
      "  Downloading astor-0.8.1-py2.py3-none-any.whl (27 kB)\r\n",
      "Requirement already satisfied: pillow>=6.2.0 in /opt/conda/lib/python3.7/site-packages (from matplotlib>=3.0->lifelines) (9.1.1)\r\n",
      "Requirement already satisfied: pyparsing>=2.2.1 in /opt/conda/lib/python3.7/site-packages (from matplotlib>=3.0->lifelines) (3.0.9)\r\n",
      "Requirement already satisfied: python-dateutil>=2.7 in /opt/conda/lib/python3.7/site-packages (from matplotlib>=3.0->lifelines) (2.8.2)\r\n",
      "Requirement already satisfied: cycler>=0.10 in /opt/conda/lib/python3.7/site-packages (from matplotlib>=3.0->lifelines) (0.11.0)\r\n",
      "Requirement already satisfied: packaging>=20.0 in /opt/conda/lib/python3.7/site-packages (from matplotlib>=3.0->lifelines) (21.3)\r\n",
      "Requirement already satisfied: kiwisolver>=1.0.1 in /opt/conda/lib/python3.7/site-packages (from matplotlib>=3.0->lifelines) (1.4.2)\r\n",
      "Requirement already satisfied: fonttools>=4.22.0 in /opt/conda/lib/python3.7/site-packages (from matplotlib>=3.0->lifelines) (4.33.3)\r\n",
      "Requirement already satisfied: pytz>=2017.3 in /opt/conda/lib/python3.7/site-packages (from pandas>=1.0.0->lifelines) (2022.1)\r\n",
      "Requirement already satisfied: typing-extensions in /opt/conda/lib/python3.7/site-packages (from kiwisolver>=1.0.1->matplotlib>=3.0->lifelines) (4.1.1)\r\n",
      "Requirement already satisfied: six>=1.5 in /opt/conda/lib/python3.7/site-packages (from python-dateutil>=2.7->matplotlib>=3.0->lifelines) (1.16.0)\r\n",
      "Building wheels for collected packages: autograd-gamma\r\n",
      "  Building wheel for autograd-gamma (setup.py) ... \u001b[?25l-\b \b\\\b \bdone\r\n",
      "\u001b[?25h  Created wheel for autograd-gamma: filename=autograd_gamma-0.5.0-py3-none-any.whl size=4048 sha256=cf6fd907b8cd81d3cd3f71a462ff8e368f6d9dc40b2d0802591c400832af4077\r\n",
      "  Stored in directory: /root/.cache/pip/wheels/9f/01/ee/1331593abb5725ff7d8c1333aee93a50a1c29d6ddda9665c9f\r\n",
      "Successfully built autograd-gamma\r\n",
      "Installing collected packages: interface-meta, autograd, astor, autograd-gamma, formulaic, lifelines\r\n",
      "Successfully installed astor-0.8.1 autograd-1.4 autograd-gamma-0.5.0 formulaic-0.3.4 interface-meta-1.3.0 lifelines-0.27.1\r\n",
      "\u001b[33mWARNING: Running pip as the 'root' user can result in broken permissions and conflicting behaviour with the system package manager. It is recommended to use a virtual environment instead: https://pip.pypa.io/warnings/venv\u001b[0m\u001b[33m\r\n",
      "\u001b[0m"
     ]
    }
   ],
   "source": [
    "!pip install lifelines\n",
    "from lifelines import KaplanMeierFitter, CoxPHFitter\n",
    "from lifelines.statistics import logrank_test"
   ]
  },
  {
   "cell_type": "code",
   "execution_count": 3,
   "id": "8bb4f40b",
   "metadata": {
    "execution": {
     "iopub.execute_input": "2022-07-10T19:21:40.017478Z",
     "iopub.status.busy": "2022-07-10T19:21:40.017102Z",
     "iopub.status.idle": "2022-07-10T19:21:40.039296Z",
     "shell.execute_reply": "2022-07-10T19:21:40.038173Z"
    },
    "papermill": {
     "duration": 0.030522,
     "end_time": "2022-07-10T19:21:40.041543",
     "exception": false,
     "start_time": "2022-07-10T19:21:40.011021",
     "status": "completed"
    },
    "tags": []
   },
   "outputs": [],
   "source": [
    "df = pd.read_csv(\"../input/heart-failure-clinical-data/heart_failure_clinical_records_dataset.csv\")"
   ]
  },
  {
   "cell_type": "markdown",
   "id": "802685f0",
   "metadata": {
    "papermill": {
     "duration": 0.005219,
     "end_time": "2022-07-10T19:21:40.052077",
     "exception": false,
     "start_time": "2022-07-10T19:21:40.046858",
     "status": "completed"
    },
    "tags": []
   },
   "source": [
    "For this estimation, we need the followup duration of each patient and their observed death events."
   ]
  },
  {
   "cell_type": "code",
   "execution_count": 4,
   "id": "e9a8673f",
   "metadata": {
    "execution": {
     "iopub.execute_input": "2022-07-10T19:21:40.063764Z",
     "iopub.status.busy": "2022-07-10T19:21:40.063334Z",
     "iopub.status.idle": "2022-07-10T19:21:40.344218Z",
     "shell.execute_reply": "2022-07-10T19:21:40.343082Z"
    },
    "papermill": {
     "duration": 0.289087,
     "end_time": "2022-07-10T19:21:40.346154",
     "exception": false,
     "start_time": "2022-07-10T19:21:40.057067",
     "status": "completed"
    },
    "tags": []
   },
   "outputs": [
    {
     "data": {
      "image/png": "[encoded data removed]",
      "text/plain": [
       "<Figure size 432x288 with 1 Axes>"
      ]
     },
     "metadata": {
      "needs_background": "light"
     },
     "output_type": "display_data"
    }
   ],
   "source": [
    "sns.scatterplot(x=df.index,y=df.time,hue=df.DEATH_EVENT,alpha=.05,s=500)\n",
    "plt.show()"
   ]
  },
  {
   "cell_type": "code",
   "execution_count": 5,
   "id": "bc4c6fe1",
   "metadata": {
    "execution": {
     "iopub.execute_input": "2022-07-10T19:21:40.359150Z",
     "iopub.status.busy": "2022-07-10T19:21:40.358819Z",
     "iopub.status.idle": "2022-07-10T19:21:40.795135Z",
     "shell.execute_reply": "2022-07-10T19:21:40.794211Z"
    },
    "papermill": {
     "duration": 0.446489,
     "end_time": "2022-07-10T19:21:40.798458",
     "exception": false,
     "start_time": "2022-07-10T19:21:40.351969",
     "status": "completed"
    },
    "tags": []
   },
   "outputs": [
    {
     "data": {
      "image/png": "[encoded data removed]",
      "text/plain": [
       "<Figure size 432x288 with 2 Axes>"
      ]
     },
     "metadata": {
      "needs_background": "light"
     },
     "output_type": "display_data"
    }
   ],
   "source": [
    "#Kaplan Meier Curve\n",
    "# From the lifelines library, we’ll need the KaplanMeierFitter for this exercise:\n",
    "kmf = KaplanMeierFitter()\n",
    "# For plot\n",
    "ax = plt.subplot(111)\n",
    "# Duration of observations\n",
    "X = df.time\n",
    "# Death events\n",
    "Y = df.DEATH_EVENT\n",
    "# We next use the KaplanMeierFitter method fit() to fit the model to the data. \n",
    "kmf.fit(X, event_observed = Y, label = 'Whole survival rate')\n",
    "# The property is a Pandas DataFrame, so we can call plot() on it:\n",
    "kmf.plot(ax = ax,at_risk_counts=True)\n",
    "plt.title(\"Kaplan Meier Curve\")\n",
    "plt.xlabel(\"Days after heart attack\")\n",
    "plt.ylabel(\"Survival\")\n",
    "plt.ylim([0,1])\n",
    "plt.show()"
   ]
  },
  {
   "cell_type": "code",
   "execution_count": 6,
   "id": "6cd6f7ae",
   "metadata": {
    "execution": {
     "iopub.execute_input": "2022-07-10T19:21:40.823876Z",
     "iopub.status.busy": "2022-07-10T19:21:40.823120Z",
     "iopub.status.idle": "2022-07-10T19:21:41.049191Z",
     "shell.execute_reply": "2022-07-10T19:21:41.047823Z"
    },
    "papermill": {
     "duration": 0.241921,
     "end_time": "2022-07-10T19:21:41.052006",
     "exception": false,
     "start_time": "2022-07-10T19:21:40.810085",
     "status": "completed"
    },
    "tags": []
   },
   "outputs": [
    {
     "data": {
      "image/png": "[encoded data removed]",
      "text/plain": [
       "<Figure size 432x288 with 1 Axes>"
      ]
     },
     "metadata": {
      "needs_background": "light"
     },
     "output_type": "display_data"
    }
   ],
   "source": [
    "ax = plt.subplot(111)\n",
    "X = df[df.sex==1].time\n",
    "Y = df[df.sex==1].DEATH_EVENT\n",
    "kmf.fit(X, event_observed = Y, label = 'Men')\n",
    "kmf.plot(ax = ax)\n",
    "X = df[df.sex==0].time\n",
    "Y = df[df.sex==0].DEATH_EVENT\n",
    "kmf.fit(X, event_observed = Y, label = 'Women')\n",
    "kmf.plot(ax = ax)\n",
    "plt.title(\"Kaplan Meier estimates by gender\")\n",
    "plt.xlabel(\"Days after heart attack\")\n",
    "plt.ylabel(\"Survival\")\n",
    "plt.ylim([0,1])\n",
    "plt.show()"
   ]
  },
  {
   "cell_type": "code",
   "execution_count": 7,
   "id": "815e03e8",
   "metadata": {
    "execution": {
     "iopub.execute_input": "2022-07-10T19:21:41.074693Z",
     "iopub.status.busy": "2022-07-10T19:21:41.072721Z",
     "iopub.status.idle": "2022-07-10T19:21:41.331206Z",
     "shell.execute_reply": "2022-07-10T19:21:41.329788Z"
    },
    "papermill": {
     "duration": 0.271773,
     "end_time": "2022-07-10T19:21:41.333626",
     "exception": false,
     "start_time": "2022-07-10T19:21:41.061853",
     "status": "completed"
    },
    "tags": []
   },
   "outputs": [
    {
     "data": {
      "image/png": "[encoded data removed]",
      "text/plain": [
       "<Figure size 432x288 with 1 Axes>"
      ]
     },
     "metadata": {
      "needs_background": "light"
     },
     "output_type": "display_data"
    }
   ],
   "source": [
    "ax = plt.subplot(111)\n",
    "X = df[df.ejection_fraction<=30].time\n",
    "Y = df[df.ejection_fraction<=30].DEATH_EVENT\n",
    "kmf.fit(X, event_observed = Y, label = 'Ejection Fraction <=30')\n",
    "kmf.plot(ax = ax)\n",
    "\n",
    "X = df[(df.ejection_fraction>30)|(df.ejection_fraction<=45)].time\n",
    "Y = df[(df.ejection_fraction>30)|(df.ejection_fraction<=45)].DEATH_EVENT\n",
    "kmf.fit(X, event_observed = Y, label = 'Ejection Fraction >30 and <=45')\n",
    "kmf.plot(ax = ax)\n",
    "\n",
    "X = df[df.ejection_fraction>45].time\n",
    "Y = df[df.ejection_fraction>45].DEATH_EVENT\n",
    "kmf.fit(X, event_observed = Y, label = 'Ejection Fraction >45')\n",
    "kmf.plot(ax = ax)\n",
    "\n",
    "plt.title(\"Kaplan Meier estimates by Ejection Fraction\")\n",
    "plt.xlabel(\"Days after heart attack\")\n",
    "plt.ylabel(\"Survival\")\n",
    "plt.ylim([0,1])\n",
    "plt.show()"
   ]
  },
  {
   "cell_type": "markdown",
   "id": "425fa69e",
   "metadata": {
    "papermill": {
     "duration": 0.009716,
     "end_time": "2022-07-10T19:21:41.354377",
     "exception": false,
     "start_time": "2022-07-10T19:21:41.344661",
     "status": "completed"
    },
    "tags": []
   },
   "source": [
    "You can compare Kaplan Meier Curves in this [articles](https://journals.plos.org/plosone/article?id=10.1371/journal.pone.0181001)\n",
    "\n",
    "\n",
    "\n",
    "\n",
    "![kaplan_meier](https://journals.plos.org/plosone/article/figure/image?size=large&id=10.1371/journal.pone.0181001.g001)"
   ]
  },
  {
   "cell_type": "code",
   "execution_count": 8,
   "id": "7cc8e0f3",
   "metadata": {
    "execution": {
     "iopub.execute_input": "2022-07-10T19:21:41.375716Z",
     "iopub.status.busy": "2022-07-10T19:21:41.374786Z",
     "iopub.status.idle": "2022-07-10T19:21:41.410069Z",
     "shell.execute_reply": "2022-07-10T19:21:41.409265Z"
    },
    "papermill": {
     "duration": 0.047814,
     "end_time": "2022-07-10T19:21:41.411746",
     "exception": false,
     "start_time": "2022-07-10T19:21:41.363932",
     "status": "completed"
    },
    "tags": []
   },
   "outputs": [
    {
     "data": {
      "text/html": [
       "<div>\n",
       "<style scoped>\n",
       "    .dataframe tbody tr th:only-of-type {\n",
       "        vertical-align: middle;\n",
       "    }\n",
       "\n",
       "    .dataframe tbody tr th {\n",
       "        vertical-align: top;\n",
       "    }\n",
       "\n",
       "    .dataframe thead th {\n",
       "        text-align: right;\n",
       "    }\n",
       "</style>\n",
       "<table border=\"1\" class=\"dataframe\">\n",
       "  <thead>\n",
       "    <tr style=\"text-align: right;\">\n",
       "      <th></th>\n",
       "      <th>age</th>\n",
       "      <th>anaemia</th>\n",
       "      <th>creatinine_phosphokinase</th>\n",
       "      <th>diabetes</th>\n",
       "      <th>ejection_fraction</th>\n",
       "      <th>high_blood_pressure</th>\n",
       "      <th>platelets</th>\n",
       "      <th>serum_creatinine</th>\n",
       "      <th>serum_sodium</th>\n",
       "      <th>sex</th>\n",
       "      <th>smoking</th>\n",
       "      <th>time</th>\n",
       "      <th>DEATH_EVENT</th>\n",
       "      <th>Diabetic_and_HT</th>\n",
       "    </tr>\n",
       "  </thead>\n",
       "  <tbody>\n",
       "    <tr>\n",
       "      <th>0</th>\n",
       "      <td>75.0</td>\n",
       "      <td>0</td>\n",
       "      <td>582</td>\n",
       "      <td>0</td>\n",
       "      <td>20</td>\n",
       "      <td>1</td>\n",
       "      <td>265000.00</td>\n",
       "      <td>1.9</td>\n",
       "      <td>130</td>\n",
       "      <td>1</td>\n",
       "      <td>0</td>\n",
       "      <td>4</td>\n",
       "      <td>1</td>\n",
       "      <td>Just hypertensive</td>\n",
       "    </tr>\n",
       "    <tr>\n",
       "      <th>1</th>\n",
       "      <td>55.0</td>\n",
       "      <td>0</td>\n",
       "      <td>7861</td>\n",
       "      <td>0</td>\n",
       "      <td>38</td>\n",
       "      <td>0</td>\n",
       "      <td>263358.03</td>\n",
       "      <td>1.1</td>\n",
       "      <td>136</td>\n",
       "      <td>1</td>\n",
       "      <td>0</td>\n",
       "      <td>6</td>\n",
       "      <td>1</td>\n",
       "      <td>Healthy</td>\n",
       "    </tr>\n",
       "    <tr>\n",
       "      <th>2</th>\n",
       "      <td>65.0</td>\n",
       "      <td>0</td>\n",
       "      <td>146</td>\n",
       "      <td>0</td>\n",
       "      <td>20</td>\n",
       "      <td>0</td>\n",
       "      <td>162000.00</td>\n",
       "      <td>1.3</td>\n",
       "      <td>129</td>\n",
       "      <td>1</td>\n",
       "      <td>1</td>\n",
       "      <td>7</td>\n",
       "      <td>1</td>\n",
       "      <td>Healthy</td>\n",
       "    </tr>\n",
       "    <tr>\n",
       "      <th>3</th>\n",
       "      <td>50.0</td>\n",
       "      <td>1</td>\n",
       "      <td>111</td>\n",
       "      <td>0</td>\n",
       "      <td>20</td>\n",
       "      <td>0</td>\n",
       "      <td>210000.00</td>\n",
       "      <td>1.9</td>\n",
       "      <td>137</td>\n",
       "      <td>1</td>\n",
       "      <td>0</td>\n",
       "      <td>7</td>\n",
       "      <td>1</td>\n",
       "      <td>Healthy</td>\n",
       "    </tr>\n",
       "    <tr>\n",
       "      <th>4</th>\n",
       "      <td>65.0</td>\n",
       "      <td>1</td>\n",
       "      <td>160</td>\n",
       "      <td>1</td>\n",
       "      <td>20</td>\n",
       "      <td>0</td>\n",
       "      <td>327000.00</td>\n",
       "      <td>2.7</td>\n",
       "      <td>116</td>\n",
       "      <td>0</td>\n",
       "      <td>0</td>\n",
       "      <td>8</td>\n",
       "      <td>1</td>\n",
       "      <td>Just Diabetic</td>\n",
       "    </tr>\n",
       "  </tbody>\n",
       "</table>\n",
       "</div>"
      ],
      "text/plain": [
       "    age  anaemia  creatinine_phosphokinase  diabetes  ejection_fraction  \\\n",
       "0  75.0        0                       582         0                 20   \n",
       "1  55.0        0                      7861         0                 38   \n",
       "2  65.0        0                       146         0                 20   \n",
       "3  50.0        1                       111         0                 20   \n",
       "4  65.0        1                       160         1                 20   \n",
       "\n",
       "   high_blood_pressure  platelets  serum_creatinine  serum_sodium  sex  \\\n",
       "0                    1  265000.00               1.9           130    1   \n",
       "1                    0  263358.03               1.1           136    1   \n",
       "2                    0  162000.00               1.3           129    1   \n",
       "3                    0  210000.00               1.9           137    1   \n",
       "4                    0  327000.00               2.7           116    0   \n",
       "\n",
       "   smoking  time  DEATH_EVENT    Diabetic_and_HT  \n",
       "0        0     4            1  Just hypertensive  \n",
       "1        0     6            1            Healthy  \n",
       "2        1     7            1            Healthy  \n",
       "3        0     7            1            Healthy  \n",
       "4        0     8            1      Just Diabetic  "
      ]
     },
     "execution_count": 8,
     "metadata": {},
     "output_type": "execute_result"
    }
   ],
   "source": [
    "ht_dm = []\n",
    "for i in range(len(df)):\n",
    "    if df.diabetes.iloc[i] == 0 and df.high_blood_pressure.iloc[i] == 0:\n",
    "        ht_dm.append(\"Healthy\")\n",
    "    elif df.diabetes.iloc[i] == 1 and df.high_blood_pressure.iloc[i] == 0:\n",
    "        ht_dm.append(\"Just Diabetic\")\n",
    "    elif df.diabetes.iloc[i] == 0 and df.high_blood_pressure.iloc[i] == 1:\n",
    "        ht_dm.append(\"Just hypertensive\")\n",
    "    else:\n",
    "        ht_dm.append(\"Combine patient\")\n",
    "\n",
    "        \n",
    "df[\"Diabetic_and_HT\"] = ht_dm\n",
    "df.head()"
   ]
  },
  {
   "cell_type": "markdown",
   "id": "d22d9548",
   "metadata": {
    "papermill": {
     "duration": 0.00663,
     "end_time": "2022-07-10T19:21:41.425321",
     "exception": false,
     "start_time": "2022-07-10T19:21:41.418691",
     "status": "completed"
    },
    "tags": []
   },
   "source": [
    "The function lifelines.statistics.logrank_test() is a common statistical test in survival analysis that compares two event series’ generators. If the value returned exceeds some pre-specified value, then we rule that the series have different generators.\n"
   ]
  },
  {
   "cell_type": "code",
   "execution_count": 9,
   "id": "84300a53",
   "metadata": {
    "execution": {
     "iopub.execute_input": "2022-07-10T19:21:41.440930Z",
     "iopub.status.busy": "2022-07-10T19:21:41.440383Z",
     "iopub.status.idle": "2022-07-10T19:21:41.495064Z",
     "shell.execute_reply": "2022-07-10T19:21:41.493948Z"
    },
    "papermill": {
     "duration": 0.065025,
     "end_time": "2022-07-10T19:21:41.497310",
     "exception": false,
     "start_time": "2022-07-10T19:21:41.432285",
     "status": "completed"
    },
    "tags": []
   },
   "outputs": [
    {
     "data": {
      "text/html": [
       "<div>\n",
       "<style scoped>\n",
       "    .dataframe tbody tr th:only-of-type {\n",
       "        vertical-align: middle;\n",
       "    }\n",
       "\n",
       "    .dataframe tbody tr th {\n",
       "        vertical-align: top;\n",
       "    }\n",
       "\n",
       "    .dataframe thead th {\n",
       "        text-align: right;\n",
       "    }\n",
       "</style>\n",
       "<table border=\"1\" class=\"dataframe\">\n",
       "  <tbody>\n",
       "    <tr>\n",
       "      <th>t_0</th>\n",
       "      <td>-1</td>\n",
       "    </tr>\n",
       "    <tr>\n",
       "      <th>null_distribution</th>\n",
       "      <td>chi squared</td>\n",
       "    </tr>\n",
       "    <tr>\n",
       "      <th>degrees_of_freedom</th>\n",
       "      <td>1</td>\n",
       "    </tr>\n",
       "    <tr>\n",
       "      <th>alpha</th>\n",
       "      <td>0.99</td>\n",
       "    </tr>\n",
       "    <tr>\n",
       "      <th>test_name</th>\n",
       "      <td>logrank_test</td>\n",
       "    </tr>\n",
       "  </tbody>\n",
       "</table>\n",
       "</div><table border=\"1\" class=\"dataframe\">\n",
       "  <thead>\n",
       "    <tr style=\"text-align: right;\">\n",
       "      <th></th>\n",
       "      <th>test_statistic</th>\n",
       "      <th>p</th>\n",
       "      <th>-log2(p)</th>\n",
       "    </tr>\n",
       "  </thead>\n",
       "  <tbody>\n",
       "    <tr>\n",
       "      <th>0</th>\n",
       "      <td>4.41</td>\n",
       "      <td>0.04</td>\n",
       "      <td>4.80</td>\n",
       "    </tr>\n",
       "  </tbody>\n",
       "</table>"
      ],
      "text/latex": [
       "\\begin{tabular}{lrrr}\n",
       "\\toprule\n",
       "{} &  test\\_statistic &         p &  -log2(p) \\\\\n",
       "\\midrule\n",
       "0 &        4.406248 &  0.035808 &  4.803593 \\\\\n",
       "\\bottomrule\n",
       "\\end{tabular}\n"
      ],
      "text/plain": [
       "<lifelines.StatisticalResult: logrank_test>\n",
       "               t_0 = -1\n",
       " null_distribution = chi squared\n",
       "degrees_of_freedom = 1\n",
       "             alpha = 0.99\n",
       "         test_name = logrank_test\n",
       "\n",
       "---\n",
       " test_statistic    p  -log2(p)\n",
       "           4.41 0.04      4.80"
      ]
     },
     "metadata": {},
     "output_type": "display_data"
    }
   ],
   "source": [
    "from lifelines.statistics import logrank_test\n",
    "\n",
    "T = df[\"time\"]\n",
    "E = df[\"DEATH_EVENT\"]\n",
    "partial =  df.high_blood_pressure==1\n",
    "results = logrank_test(T[partial], T[~partial], E[partial], E[~partial], alpha=.99)\n",
    "\n",
    "results.print_summary()"
   ]
  },
  {
   "cell_type": "markdown",
   "id": "25c6b948",
   "metadata": {
    "papermill": {
     "duration": 0.007338,
     "end_time": "2022-07-10T19:21:41.512087",
     "exception": false,
     "start_time": "2022-07-10T19:21:41.504749",
     "status": "completed"
    },
    "tags": []
   },
   "source": [
    "* -log2 > test_statistic means that;\n",
    "    * Death event is not only related to hypertension."
   ]
  },
  {
   "cell_type": "code",
   "execution_count": 10,
   "id": "405a6b03",
   "metadata": {
    "execution": {
     "iopub.execute_input": "2022-07-10T19:21:41.528632Z",
     "iopub.status.busy": "2022-07-10T19:21:41.528330Z",
     "iopub.status.idle": "2022-07-10T19:21:42.060950Z",
     "shell.execute_reply": "2022-07-10T19:21:42.060067Z"
    },
    "papermill": {
     "duration": 0.543398,
     "end_time": "2022-07-10T19:21:42.062980",
     "exception": false,
     "start_time": "2022-07-10T19:21:41.519582",
     "status": "completed"
    },
    "tags": []
   },
   "outputs": [
    {
     "data": {
      "image/png": "[encoded data removed]",
      "text/plain": [
       "<Figure size 432x288 with 4 Axes>"
      ]
     },
     "metadata": {
      "needs_background": "light"
     },
     "output_type": "display_data"
    }
   ],
   "source": [
    "Diabetic_and_HT = df['Diabetic_and_HT'].unique()\n",
    "\n",
    "for i, Diabetic_and_HT in enumerate(Diabetic_and_HT):\n",
    "    ax = plt.subplot(1, 4, i + 1)\n",
    "\n",
    "    ix = df['Diabetic_and_HT'] == Diabetic_and_HT\n",
    "    kmf.fit(T[ix], E[ix], label=Diabetic_and_HT)\n",
    "    kmf.plot_survival_function(ax=ax, legend=False)\n",
    "\n",
    "    plt.title(Diabetic_and_HT)\n",
    "    plt.xlim(0,30)\n",
    "\n",
    "    if i==0:\n",
    "        plt.ylabel('Firsth month Survival Rate by Health Statue')\n",
    "\n",
    "plt.tight_layout()"
   ]
  },
  {
   "cell_type": "markdown",
   "id": "e6a4d561",
   "metadata": {
    "papermill": {
     "duration": 0.010554,
     "end_time": "2022-07-10T19:21:42.084394",
     "exception": false,
     "start_time": "2022-07-10T19:21:42.073840",
     "status": "completed"
    },
    "tags": []
   },
   "source": [
    "# To be contunied\n",
    "### By the way, most voted notebooks use this time feature for model training. This feauture dosnt for model developping."
   ]
  }
 ],
 "metadata": {
  "kernelspec": {
   "display_name": "Python 3",
   "language": "python",
   "name": "python3"
  },
  "language_info": {
   "codemirror_mode": {
    "name": "ipython",
    "version": 3
   },
   "file_extension": ".py",
   "mimetype": "text/x-python",
   "name": "python",
   "nbconvert_exporter": "python",
   "pygments_lexer": "ipython3",
   "version": "3.7.12"
  },
  "papermill": {
   "default_parameters": {},
   "duration": 31.698735,
   "end_time": "2022-07-10T19:21:42.916646",
   "environment_variables": {},
   "exception": null,
   "input_path": "__notebook__.ipynb",
   "output_path": "__notebook__.ipynb",
   "parameters": {},
   "start_time": "2022-07-10T19:21:11.217911",
   "version": "2.3.4"
  }
 },
 "nbformat": 4,
 "nbformat_minor": 5
}
